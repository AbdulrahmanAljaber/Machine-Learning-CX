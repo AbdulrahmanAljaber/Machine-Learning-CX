{
 "cells": [
  {
   "cell_type": "code",
   "execution_count": null,
   "metadata": {},
   "outputs": [],
   "source": [
    "###\n",
    "#Abdulrhman Alajber \n",
    "#201650400\n",
    "###"
   ]
  },
  {
   "cell_type": "markdown",
   "metadata": {},
   "source": [
    "# Regression with Ridge and Lasso"
   ]
  },
  {
   "cell_type": "markdown",
   "metadata": {},
   "source": [
    "In this part of the assignment, you need the predict the price of the house (i.e., column 4 of the csv file) and the features provided to you are 'len', 'width', 'rooms' (i.e., the first 3 columns of the csv file). You can use the sklearn library to use ``LinearRegression``, ``Ridge``, and ``Lasso`` from ``sklearn.linear_model``. Moreover, if you feel the need to expand the features to polynomials (say degree 2) you can either transform the CSV file manually or use the ``PolynomialFeatures`` from ``sklearn.preprocessing``. You might realize that adding polynomial features can improve the results but you have to be careful about overfitting.\n"
   ]
  },
  {
   "cell_type": "code",
   "execution_count": 25,
   "metadata": {},
   "outputs": [],
   "source": [
    "# Standard includes\n",
    "%matplotlib inline\n",
    "import numpy as np\n",
    "import matplotlib\n",
    "import matplotlib.pyplot as plt\n",
    "# Routines for linear regression\n",
    "from sklearn import linear_model\n",
    "from sklearn.metrics import mean_squared_error, mean_absolute_error\n",
    "# Set label size for plots\n",
    "matplotlib.rc('xtick', labelsize=14) \n",
    "matplotlib.rc('ytick', labelsize=14)"
   ]
  },
  {
   "cell_type": "code",
   "execution_count": 26,
   "metadata": {},
   "outputs": [],
   "source": [
    "data = np.genfromtxt('LandPriceTrain.csv', delimiter=',')\n",
    "features = ['len', 'width', 'rooms']\n",
    "x_train = data[:,0:3] # predictors\n",
    "y_train = data[:,3] # response variable"
   ]
  },
  {
   "cell_type": "code",
   "execution_count": 27,
   "metadata": {},
   "outputs": [],
   "source": [
    "data = np.genfromtxt('LandPriceTest.csv', delimiter=',')\n",
    "x_test = data[:,0:3] # predictors\n",
    "y_test = data[:,3] # response variable"
   ]
  },
  {
   "cell_type": "markdown",
   "metadata": {},
   "source": [
    "### 1. What best can we acheive if we have no predictors and only response (House Prices) values in the training data? What will be the mean error?"
   ]
  },
  {
   "cell_type": "code",
   "execution_count": 28,
   "metadata": {},
   "outputs": [],
   "source": [
    "### START CODE HERE ###\n",
    "#print (\"Prediction: \", np.mean(y))\n",
    "#print (\"Mean squared error: \",...)\n",
    "#print (\"Mean squared error: \", np.var(y))"
   ]
  },
  {
   "cell_type": "markdown",
   "metadata": {},
   "source": [
    "### 2. Let's now use the features and see what we can observe  "
   ]
  },
  {
   "cell_type": "code",
   "execution_count": 29,
   "metadata": {},
   "outputs": [],
   "source": [
    "def feature_subset_regression(x,y,flist):\n",
    "    if len(flist) < 1:\n",
    "        print (\"Need at least one feature\")\n",
    "        return\n",
    "    for f in flist:\n",
    "        if (f < 0) or (f > 2):\n",
    "            print (\"Feature index is out of bounds\")\n",
    "            return\n",
    "    ### COMPLETE CODE BELOW by creating an instance of LinearRegression\n",
    "    regr = linear_model.LinearRegression()\n",
    "    regr.fit(x[:,flist], y)\n",
    "    \n",
    "    return regr"
   ]
  },
  {
   "cell_type": "code",
   "execution_count": 30,
   "metadata": {},
   "outputs": [
    {
     "name": "stdout",
     "output_type": "stream",
     "text": [
      "w =  [ 3010.83212779  2914.47821951 -2420.72225879]\n",
      "b =  -77044.07528278617\n",
      "Mean squared error (train):  217514383.15439194\n",
      "Mean error (train):  12629.086434271376\n",
      "Mean squared error (test):  158706743.7864192\n",
      "Mean error (test):  9999.972138004121\n"
     ]
    }
   ],
   "source": [
    "flist = [0,1,2]\n",
    "regr = feature_subset_regression(x_train,y_train,flist)\n",
    "print (\"w = \", regr.coef_)\n",
    "print (\"b = \", regr.intercept_)\n",
    "print (\"Mean squared error (train): \", mean_squared_error(y_train, regr.predict(x_train[:,flist])))\n",
    "print (\"Mean error (train): \", mean_absolute_error(y_train, regr.predict(x_train[:,flist])))\n",
    "print (\"Mean squared error (test): \", mean_squared_error(y_test, regr.predict(x_test[:,flist])))\n",
    "print (\"Mean error (test): \", mean_absolute_error(y_test, regr.predict(x_test[:,flist])))"
   ]
  },
  {
   "cell_type": "markdown",
   "metadata": {},
   "source": [
    "### 3. It seems we are underfitting as the train and test error are significantly high. Let's try to use polynomial features."
   ]
  },
  {
   "cell_type": "markdown",
   "metadata": {},
   "source": [
    "Try incorporating polynomial features (say of degree 2) and see how you perform on the train and the test set. You can either transform the CSV file manually or use the ``PolynomialFeatures`` from ``sklearn.preprocessing``."
   ]
  },
  {
   "cell_type": "code",
   "execution_count": 31,
   "metadata": {
    "scrolled": true
   },
   "outputs": [
    {
     "data": {
      "text/plain": [
       "LinearRegression()"
      ]
     },
     "execution_count": 31,
     "metadata": {},
     "output_type": "execute_result"
    }
   ],
   "source": [
    "### START CODE HERE ###\n",
    "#try to expand the fetaures fit the linear regression and report the results\n",
    "from sklearn.preprocessing import PolynomialFeatures\n",
    "poly_features = PolynomialFeatures(degree = 2,include_bias = False)\n",
    "x_train = poly_features.fit_transform(x_train)\n",
    "x_test = poly_features.fit_transform(x_test)\n",
    "regr.fit(x_train,y_train)\n",
    "#regr_poly = linear_model.LinearRegression()\n",
    "#regr_poly.fit(x_poly_train,y_train)"
   ]
  },
  {
   "cell_type": "code",
   "execution_count": 32,
   "metadata": {},
   "outputs": [
    {
     "name": "stdout",
     "output_type": "stream",
     "text": [
      "w =  [ 3.38880737e+02  1.79182339e+03  2.45415349e+03 -1.76818784e+00\n",
      "  8.72187773e+01 -2.26660380e+01 -2.74067566e-02 -3.10041171e+02\n",
      "  9.42215698e+02]\n",
      "b =  -38854.24323533867\n",
      "Mean squared error (train):  21545554.458582547\n",
      "Mean error (train):  3338.283508427513\n",
      "Mean squared error (test):  94462869.08423308\n",
      "Mean error (test):  7759.405168100228\n"
     ]
    }
   ],
   "source": [
    "### UPDATE THE CODE BELOW ###\n",
    "print (\"w = \", regr.coef_)\n",
    "print (\"b = \", regr.intercept_)\n",
    "print (\"Mean squared error (train): \", mean_squared_error(y_train, regr.predict(x_train)))\n",
    "print (\"Mean error (train): \", mean_absolute_error(y_train, regr.predict(x_train)))\n",
    "print (\"Mean squared error (test): \", mean_squared_error(y_test, regr.predict(x_test)))\n",
    "print (\"Mean error (test): \", mean_absolute_error(y_test, regr.predict(x_test)))"
   ]
  },
  {
   "cell_type": "markdown",
   "metadata": {},
   "source": [
    "### 4. It seems we are overfitting as the train error is significantly lower than the test error. Let's try some regularization techniques."
   ]
  },
  {
   "cell_type": "markdown",
   "metadata": {},
   "source": [
    "### Ridge Regression"
   ]
  },
  {
   "cell_type": "code",
   "execution_count": 35,
   "metadata": {},
   "outputs": [],
   "source": [
    "from sklearn.linear_model import Ridge"
   ]
  },
  {
   "cell_type": "code",
   "execution_count": 40,
   "metadata": {},
   "outputs": [],
   "source": [
    "def feature_subset_ridge(x,y,flist, alp):\n",
    "    if len(flist) < 1:\n",
    "        print (\"Need at least one feature\")\n",
    "        return\n",
    "    for f in flist:\n",
    "        if (f < 0) or (f > 8):\n",
    "            print (\"Feature index is out of bounds\")\n",
    "            return\n",
    "    ### COMPLETE CODE BELOW by creating an instance of Ridge, be careful of the parameters\n",
    "    print(x.shape)\n",
    "    print(y.shape)\n",
    "    regr = Ridge(alpha = alp) \n",
    "    regr.fit(x[:,flist], y)\n",
    "    return regr"
   ]
  },
  {
   "cell_type": "code",
   "execution_count": 41,
   "metadata": {},
   "outputs": [
    {
     "name": "stdout",
     "output_type": "stream",
     "text": [
      "(20, 9)\n",
      "(20,)\n",
      "w =  [ 3.31325653e+02  1.79352540e+03  2.04719894e+03 -1.74107800e+00\n",
      "  8.72253534e+01 -2.09597920e+01 -7.55082222e-02 -3.09207513e+02\n",
      "  9.89840014e+02]\n",
      "b =  -38144.97794997573\n",
      "Mean squared error (train):  21547518.758801147\n",
      "Mean error (train):  3352.9219263456807\n",
      "Mean squared error (test):  93972285.00886199\n",
      "Mean error (test):  7730.239056773507\n"
     ]
    }
   ],
   "source": [
    "flist = [0,1,2,3,4,5,6,7,8]\n",
    "regr = feature_subset_ridge(x_train,y_train,flist, 0.05)\n",
    "print (\"w = \", regr.coef_)\n",
    "print (\"b = \", regr.intercept_)\n",
    "print (\"Mean squared error (train): \", mean_squared_error(y_train, regr.predict(x_train[:,flist])))\n",
    "print (\"Mean error (train): \", mean_absolute_error(y_train, regr.predict(x_train[:,flist])))\n",
    "print (\"Mean squared error (test): \", mean_squared_error(y_test, regr.predict(x_test[:,flist])))\n",
    "print (\"Mean error (test): \", mean_absolute_error(y_test, regr.predict(x_test[:,flist])))"
   ]
  },
  {
   "cell_type": "markdown",
   "metadata": {},
   "source": [
    "### Lasso Regression"
   ]
  },
  {
   "cell_type": "code",
   "execution_count": 42,
   "metadata": {},
   "outputs": [],
   "source": [
    "from sklearn.linear_model import Lasso"
   ]
  },
  {
   "cell_type": "code",
   "execution_count": 43,
   "metadata": {},
   "outputs": [],
   "source": [
    "def feature_subset_lasso(x,y,flist, alp):\n",
    "    if len(flist) < 1:\n",
    "        print (\"Need at least one feature\")\n",
    "        return\n",
    "    for f in flist:\n",
    "        if (f < 0) or (f > 8):\n",
    "            print (\"Feature index is out of bounds\")\n",
    "            return\n",
    "    ### COMPLETE CODE BELOW by creating an instance of Lasso, be careful of the parameters\n",
    "    regr = Lasso(alpha = alp) \n",
    "    regr.fit(x[:,flist], y)\n",
    "    return regr"
   ]
  },
  {
   "cell_type": "code",
   "execution_count": 44,
   "metadata": {
    "scrolled": true
   },
   "outputs": [
    {
     "name": "stdout",
     "output_type": "stream",
     "text": [
      "w =  [ 0.00000000e+00  8.65620737e+02  0.00000000e+00  7.50500325e-01\n",
      "  9.08607331e+01  9.22730595e+00  8.08171331e+00 -2.21502399e+02\n",
      "  8.17611496e+02]\n",
      "b =  -17069.364975055316\n",
      "Mean squared error (train):  23555474.340447985\n",
      "Mean error (train):  3696.325934600074\n",
      "Mean squared error (test):  66654329.070844784\n",
      "Mean error (test):  6603.677169503234\n"
     ]
    }
   ],
   "source": [
    "flist = [0,1,2,3,4,5,6,7,8]\n",
    "regr = feature_subset_lasso(x_train,y_train,flist, 1150)\n",
    "print (\"w = \", regr.coef_)\n",
    "print (\"b = \", regr.intercept_)\n",
    "print (\"Mean squared error (train): \", mean_squared_error(y_train, regr.predict(x_train[:,flist])))\n",
    "print (\"Mean error (train): \", mean_absolute_error(y_train, regr.predict(x_train[:,flist])))\n",
    "print (\"Mean squared error (test): \", mean_squared_error(y_test, regr.predict(x_test[:,flist])))\n",
    "print (\"Mean error (test): \", mean_absolute_error(y_test, regr.predict(x_test[:,flist])))"
   ]
  },
  {
   "cell_type": "markdown",
   "metadata": {},
   "source": [
    "## Document your observation and understanding"
   ]
  },
  {
   "cell_type": "markdown",
   "metadata": {},
   "source": [
    "Add you observations and understanding:\n"
   ]
  },
  {
   "cell_type": "markdown",
   "metadata": {},
   "source": [
    "# Additional Questions (Optional-Extra)"
   ]
  },
  {
   "cell_type": "markdown",
   "metadata": {},
   "source": [
    "1. Implement the closed-form solution for Ridge\n",
    "2. Implement the iterative solution (Gradient Descent) for Ridge\n",
    "3. Implement the iterative solution for Lasso\n",
    "4. Use the sklearn linear_model.ElasticNet and try on the above problem.\n",
    "\n",
    "Compare your implemented solutions with the built-in solutions on the above problem"
   ]
  },
  {
   "cell_type": "code",
   "execution_count": null,
   "metadata": {},
   "outputs": [],
   "source": []
  }
 ],
 "metadata": {
  "kernelspec": {
   "display_name": "Python 3",
   "language": "python",
   "name": "python3"
  },
  "language_info": {
   "codemirror_mode": {
    "name": "ipython",
    "version": 3
   },
   "file_extension": ".py",
   "mimetype": "text/x-python",
   "name": "python",
   "nbconvert_exporter": "python",
   "pygments_lexer": "ipython3",
   "version": "3.8.8"
  }
 },
 "nbformat": 4,
 "nbformat_minor": 2
}
