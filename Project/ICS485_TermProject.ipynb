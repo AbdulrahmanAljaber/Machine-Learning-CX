{
  "cells": [
    {
      "cell_type": "markdown",
      "source": [
        "# Tweets sentiments Classification"
      ],
      "metadata": {
        "id": "MGuNvDfDD6qp"
      },
      "id": "MGuNvDfDD6qp"
    },
    {
      "cell_type": "markdown",
      "source": [
        "### Import libries"
      ],
      "metadata": {
        "id": "muNP-po7EHnd"
      },
      "id": "muNP-po7EHnd"
    },
    {
      "cell_type": "code",
      "execution_count": null,
      "id": "45bd5942",
      "metadata": {
        "id": "45bd5942"
      },
      "outputs": [],
      "source": [
        "import numpy as np\n",
        "import pandas as pd\n",
        "%matplotlib inline\n",
        "import matplotlib\n",
        "import matplotlib.pyplot as plt\n",
        "from sklearn.model_selection import train_test_split\n",
        "from sklearn import preprocessing\n",
        "from sklearn.feature_extraction.text import TfidfVectorizer\n",
        "from sklearn.metrics import accuracy_score\n",
        "from sklearn.metrics import log_loss, f1_score, recall_score, confusion_matrix, classification_report\n",
        "from sklearn.preprocessing import LabelEncoder\n",
        "from sklearn.metrics import multilabel_confusion_matrix, confusion_matrix\n",
        "from sklearn.neighbors import KNeighborsClassifier\n",
        "from sklearn.tree import DecisionTreeClassifier\n",
        "from sklearn.linear_model import LogisticRegression\n",
        "from sklearn.ensemble import BaggingClassifier\n",
        "from sklearn.model_selection import GridSearchCV"
      ]
    },
    {
      "cell_type": "markdown",
      "id": "d14b1f93",
      "metadata": {
        "id": "d14b1f93"
      },
      "source": [
        "# 1- Loading Data"
      ]
    },
    {
      "cell_type": "code",
      "execution_count": null,
      "id": "dfd55f13",
      "metadata": {
        "id": "dfd55f13"
      },
      "outputs": [],
      "source": [
        "df_train = pd.read_csv('train.csv')"
      ]
    },
    {
      "cell_type": "code",
      "execution_count": null,
      "id": "c193243e",
      "metadata": {
        "colab": {
          "base_uri": "https://localhost:8080/",
          "height": 206
        },
        "id": "c193243e",
        "outputId": "abeb7ed6-f2e1-4a9c-fa12-6bdffcd66036"
      },
      "outputs": [
        {
          "output_type": "execute_result",
          "data": {
            "text/html": [
              "\n",
              "  <div id=\"df-72e32c8f-c35c-4d91-9a8b-f3692d868b42\">\n",
              "    <div class=\"colab-df-container\">\n",
              "      <div>\n",
              "<style scoped>\n",
              "    .dataframe tbody tr th:only-of-type {\n",
              "        vertical-align: middle;\n",
              "    }\n",
              "\n",
              "    .dataframe tbody tr th {\n",
              "        vertical-align: top;\n",
              "    }\n",
              "\n",
              "    .dataframe thead th {\n",
              "        text-align: right;\n",
              "    }\n",
              "</style>\n",
              "<table border=\"1\" class=\"dataframe\">\n",
              "  <thead>\n",
              "    <tr style=\"text-align: right;\">\n",
              "      <th></th>\n",
              "      <th>textID</th>\n",
              "      <th>text</th>\n",
              "      <th>selected_text</th>\n",
              "      <th>sentiment</th>\n",
              "    </tr>\n",
              "  </thead>\n",
              "  <tbody>\n",
              "    <tr>\n",
              "      <th>0</th>\n",
              "      <td>cb774db0d1</td>\n",
              "      <td>I`d have responded, if I were going</td>\n",
              "      <td>I`d have responded, if I were going</td>\n",
              "      <td>neutral</td>\n",
              "    </tr>\n",
              "    <tr>\n",
              "      <th>1</th>\n",
              "      <td>549e992a42</td>\n",
              "      <td>Sooo SAD I will miss you here in San Diego!!!</td>\n",
              "      <td>Sooo SAD</td>\n",
              "      <td>negative</td>\n",
              "    </tr>\n",
              "    <tr>\n",
              "      <th>2</th>\n",
              "      <td>088c60f138</td>\n",
              "      <td>my boss is bullying me...</td>\n",
              "      <td>bullying me</td>\n",
              "      <td>negative</td>\n",
              "    </tr>\n",
              "    <tr>\n",
              "      <th>3</th>\n",
              "      <td>9642c003ef</td>\n",
              "      <td>what interview! leave me alone</td>\n",
              "      <td>leave me alone</td>\n",
              "      <td>negative</td>\n",
              "    </tr>\n",
              "    <tr>\n",
              "      <th>4</th>\n",
              "      <td>358bd9e861</td>\n",
              "      <td>Sons of ****, why couldn`t they put them on t...</td>\n",
              "      <td>Sons of ****,</td>\n",
              "      <td>negative</td>\n",
              "    </tr>\n",
              "  </tbody>\n",
              "</table>\n",
              "</div>\n",
              "      <button class=\"colab-df-convert\" onclick=\"convertToInteractive('df-72e32c8f-c35c-4d91-9a8b-f3692d868b42')\"\n",
              "              title=\"Convert this dataframe to an interactive table.\"\n",
              "              style=\"display:none;\">\n",
              "        \n",
              "  <svg xmlns=\"http://www.w3.org/2000/svg\" height=\"24px\"viewBox=\"0 0 24 24\"\n",
              "       width=\"24px\">\n",
              "    <path d=\"M0 0h24v24H0V0z\" fill=\"none\"/>\n",
              "    <path d=\"M18.56 5.44l.94 2.06.94-2.06 2.06-.94-2.06-.94-.94-2.06-.94 2.06-2.06.94zm-11 1L8.5 8.5l.94-2.06 2.06-.94-2.06-.94L8.5 2.5l-.94 2.06-2.06.94zm10 10l.94 2.06.94-2.06 2.06-.94-2.06-.94-.94-2.06-.94 2.06-2.06.94z\"/><path d=\"M17.41 7.96l-1.37-1.37c-.4-.4-.92-.59-1.43-.59-.52 0-1.04.2-1.43.59L10.3 9.45l-7.72 7.72c-.78.78-.78 2.05 0 2.83L4 21.41c.39.39.9.59 1.41.59.51 0 1.02-.2 1.41-.59l7.78-7.78 2.81-2.81c.8-.78.8-2.07 0-2.86zM5.41 20L4 18.59l7.72-7.72 1.47 1.35L5.41 20z\"/>\n",
              "  </svg>\n",
              "      </button>\n",
              "      \n",
              "  <style>\n",
              "    .colab-df-container {\n",
              "      display:flex;\n",
              "      flex-wrap:wrap;\n",
              "      gap: 12px;\n",
              "    }\n",
              "\n",
              "    .colab-df-convert {\n",
              "      background-color: #E8F0FE;\n",
              "      border: none;\n",
              "      border-radius: 50%;\n",
              "      cursor: pointer;\n",
              "      display: none;\n",
              "      fill: #1967D2;\n",
              "      height: 32px;\n",
              "      padding: 0 0 0 0;\n",
              "      width: 32px;\n",
              "    }\n",
              "\n",
              "    .colab-df-convert:hover {\n",
              "      background-color: #E2EBFA;\n",
              "      box-shadow: 0px 1px 2px rgba(60, 64, 67, 0.3), 0px 1px 3px 1px rgba(60, 64, 67, 0.15);\n",
              "      fill: #174EA6;\n",
              "    }\n",
              "\n",
              "    [theme=dark] .colab-df-convert {\n",
              "      background-color: #3B4455;\n",
              "      fill: #D2E3FC;\n",
              "    }\n",
              "\n",
              "    [theme=dark] .colab-df-convert:hover {\n",
              "      background-color: #434B5C;\n",
              "      box-shadow: 0px 1px 3px 1px rgba(0, 0, 0, 0.15);\n",
              "      filter: drop-shadow(0px 1px 2px rgba(0, 0, 0, 0.3));\n",
              "      fill: #FFFFFF;\n",
              "    }\n",
              "  </style>\n",
              "\n",
              "      <script>\n",
              "        const buttonEl =\n",
              "          document.querySelector('#df-72e32c8f-c35c-4d91-9a8b-f3692d868b42 button.colab-df-convert');\n",
              "        buttonEl.style.display =\n",
              "          google.colab.kernel.accessAllowed ? 'block' : 'none';\n",
              "\n",
              "        async function convertToInteractive(key) {\n",
              "          const element = document.querySelector('#df-72e32c8f-c35c-4d91-9a8b-f3692d868b42');\n",
              "          const dataTable =\n",
              "            await google.colab.kernel.invokeFunction('convertToInteractive',\n",
              "                                                     [key], {});\n",
              "          if (!dataTable) return;\n",
              "\n",
              "          const docLinkHtml = 'Like what you see? Visit the ' +\n",
              "            '<a target=\"_blank\" href=https://colab.research.google.com/notebooks/data_table.ipynb>data table notebook</a>'\n",
              "            + ' to learn more about interactive tables.';\n",
              "          element.innerHTML = '';\n",
              "          dataTable['output_type'] = 'display_data';\n",
              "          await google.colab.output.renderOutput(dataTable, element);\n",
              "          const docLink = document.createElement('div');\n",
              "          docLink.innerHTML = docLinkHtml;\n",
              "          element.appendChild(docLink);\n",
              "        }\n",
              "      </script>\n",
              "    </div>\n",
              "  </div>\n",
              "  "
            ],
            "text/plain": [
              "       textID  ... sentiment\n",
              "0  cb774db0d1  ...   neutral\n",
              "1  549e992a42  ...  negative\n",
              "2  088c60f138  ...  negative\n",
              "3  9642c003ef  ...  negative\n",
              "4  358bd9e861  ...  negative\n",
              "\n",
              "[5 rows x 4 columns]"
            ]
          },
          "metadata": {},
          "execution_count": 3
        }
      ],
      "source": [
        "df_train.head()"
      ]
    },
    {
      "cell_type": "code",
      "execution_count": null,
      "id": "922cba5b",
      "metadata": {
        "colab": {
          "base_uri": "https://localhost:8080/",
          "height": 174
        },
        "id": "922cba5b",
        "outputId": "1a1c0047-30cd-4842-9027-5f33050866bf"
      },
      "outputs": [
        {
          "output_type": "execute_result",
          "data": {
            "text/html": [
              "\n",
              "  <div id=\"df-5bcf9354-fc9c-46dd-9a93-cf2d5d27902b\">\n",
              "    <div class=\"colab-df-container\">\n",
              "      <div>\n",
              "<style scoped>\n",
              "    .dataframe tbody tr th:only-of-type {\n",
              "        vertical-align: middle;\n",
              "    }\n",
              "\n",
              "    .dataframe tbody tr th {\n",
              "        vertical-align: top;\n",
              "    }\n",
              "\n",
              "    .dataframe thead th {\n",
              "        text-align: right;\n",
              "    }\n",
              "</style>\n",
              "<table border=\"1\" class=\"dataframe\">\n",
              "  <thead>\n",
              "    <tr style=\"text-align: right;\">\n",
              "      <th></th>\n",
              "      <th>textID</th>\n",
              "      <th>text</th>\n",
              "      <th>selected_text</th>\n",
              "      <th>sentiment</th>\n",
              "    </tr>\n",
              "  </thead>\n",
              "  <tbody>\n",
              "    <tr>\n",
              "      <th>count</th>\n",
              "      <td>27481</td>\n",
              "      <td>27480</td>\n",
              "      <td>27480</td>\n",
              "      <td>27481</td>\n",
              "    </tr>\n",
              "    <tr>\n",
              "      <th>unique</th>\n",
              "      <td>27481</td>\n",
              "      <td>27480</td>\n",
              "      <td>22463</td>\n",
              "      <td>3</td>\n",
              "    </tr>\n",
              "    <tr>\n",
              "      <th>top</th>\n",
              "      <td>cb44a5ab52</td>\n",
              "      <td>eating nothing, drinking water, about to watch...</td>\n",
              "      <td>good</td>\n",
              "      <td>neutral</td>\n",
              "    </tr>\n",
              "    <tr>\n",
              "      <th>freq</th>\n",
              "      <td>1</td>\n",
              "      <td>1</td>\n",
              "      <td>199</td>\n",
              "      <td>11118</td>\n",
              "    </tr>\n",
              "  </tbody>\n",
              "</table>\n",
              "</div>\n",
              "      <button class=\"colab-df-convert\" onclick=\"convertToInteractive('df-5bcf9354-fc9c-46dd-9a93-cf2d5d27902b')\"\n",
              "              title=\"Convert this dataframe to an interactive table.\"\n",
              "              style=\"display:none;\">\n",
              "        \n",
              "  <svg xmlns=\"http://www.w3.org/2000/svg\" height=\"24px\"viewBox=\"0 0 24 24\"\n",
              "       width=\"24px\">\n",
              "    <path d=\"M0 0h24v24H0V0z\" fill=\"none\"/>\n",
              "    <path d=\"M18.56 5.44l.94 2.06.94-2.06 2.06-.94-2.06-.94-.94-2.06-.94 2.06-2.06.94zm-11 1L8.5 8.5l.94-2.06 2.06-.94-2.06-.94L8.5 2.5l-.94 2.06-2.06.94zm10 10l.94 2.06.94-2.06 2.06-.94-2.06-.94-.94-2.06-.94 2.06-2.06.94z\"/><path d=\"M17.41 7.96l-1.37-1.37c-.4-.4-.92-.59-1.43-.59-.52 0-1.04.2-1.43.59L10.3 9.45l-7.72 7.72c-.78.78-.78 2.05 0 2.83L4 21.41c.39.39.9.59 1.41.59.51 0 1.02-.2 1.41-.59l7.78-7.78 2.81-2.81c.8-.78.8-2.07 0-2.86zM5.41 20L4 18.59l7.72-7.72 1.47 1.35L5.41 20z\"/>\n",
              "  </svg>\n",
              "      </button>\n",
              "      \n",
              "  <style>\n",
              "    .colab-df-container {\n",
              "      display:flex;\n",
              "      flex-wrap:wrap;\n",
              "      gap: 12px;\n",
              "    }\n",
              "\n",
              "    .colab-df-convert {\n",
              "      background-color: #E8F0FE;\n",
              "      border: none;\n",
              "      border-radius: 50%;\n",
              "      cursor: pointer;\n",
              "      display: none;\n",
              "      fill: #1967D2;\n",
              "      height: 32px;\n",
              "      padding: 0 0 0 0;\n",
              "      width: 32px;\n",
              "    }\n",
              "\n",
              "    .colab-df-convert:hover {\n",
              "      background-color: #E2EBFA;\n",
              "      box-shadow: 0px 1px 2px rgba(60, 64, 67, 0.3), 0px 1px 3px 1px rgba(60, 64, 67, 0.15);\n",
              "      fill: #174EA6;\n",
              "    }\n",
              "\n",
              "    [theme=dark] .colab-df-convert {\n",
              "      background-color: #3B4455;\n",
              "      fill: #D2E3FC;\n",
              "    }\n",
              "\n",
              "    [theme=dark] .colab-df-convert:hover {\n",
              "      background-color: #434B5C;\n",
              "      box-shadow: 0px 1px 3px 1px rgba(0, 0, 0, 0.15);\n",
              "      filter: drop-shadow(0px 1px 2px rgba(0, 0, 0, 0.3));\n",
              "      fill: #FFFFFF;\n",
              "    }\n",
              "  </style>\n",
              "\n",
              "      <script>\n",
              "        const buttonEl =\n",
              "          document.querySelector('#df-5bcf9354-fc9c-46dd-9a93-cf2d5d27902b button.colab-df-convert');\n",
              "        buttonEl.style.display =\n",
              "          google.colab.kernel.accessAllowed ? 'block' : 'none';\n",
              "\n",
              "        async function convertToInteractive(key) {\n",
              "          const element = document.querySelector('#df-5bcf9354-fc9c-46dd-9a93-cf2d5d27902b');\n",
              "          const dataTable =\n",
              "            await google.colab.kernel.invokeFunction('convertToInteractive',\n",
              "                                                     [key], {});\n",
              "          if (!dataTable) return;\n",
              "\n",
              "          const docLinkHtml = 'Like what you see? Visit the ' +\n",
              "            '<a target=\"_blank\" href=https://colab.research.google.com/notebooks/data_table.ipynb>data table notebook</a>'\n",
              "            + ' to learn more about interactive tables.';\n",
              "          element.innerHTML = '';\n",
              "          dataTable['output_type'] = 'display_data';\n",
              "          await google.colab.output.renderOutput(dataTable, element);\n",
              "          const docLink = document.createElement('div');\n",
              "          docLink.innerHTML = docLinkHtml;\n",
              "          element.appendChild(docLink);\n",
              "        }\n",
              "      </script>\n",
              "    </div>\n",
              "  </div>\n",
              "  "
            ],
            "text/plain": [
              "            textID  ... sentiment\n",
              "count        27481  ...     27481\n",
              "unique       27481  ...         3\n",
              "top     cb44a5ab52  ...   neutral\n",
              "freq             1  ...     11118\n",
              "\n",
              "[4 rows x 4 columns]"
            ]
          },
          "metadata": {},
          "execution_count": 4
        }
      ],
      "source": [
        "df_train.describe()"
      ]
    },
    {
      "cell_type": "markdown",
      "id": "3b9ac405",
      "metadata": {
        "id": "3b9ac405"
      },
      "source": [
        "# 2- Cleaning Data"
      ]
    },
    {
      "cell_type": "markdown",
      "source": [
        "#### Dropping null values"
      ],
      "metadata": {
        "id": "WFxG5HaPHSMm"
      },
      "id": "WFxG5HaPHSMm"
    },
    {
      "cell_type": "code",
      "execution_count": null,
      "id": "4354a2c9",
      "metadata": {
        "id": "4354a2c9",
        "colab": {
          "base_uri": "https://localhost:8080/"
        },
        "outputId": "61e6b4a1-7a6a-4db0-d269-ec62137ffd16"
      },
      "outputs": [
        {
          "output_type": "execute_result",
          "data": {
            "text/plain": [
              "textID           0\n",
              "text             1\n",
              "selected_text    1\n",
              "sentiment        0\n",
              "dtype: int64"
            ]
          },
          "metadata": {},
          "execution_count": 5
        }
      ],
      "source": [
        "df_train.isnull().sum()"
      ]
    },
    {
      "cell_type": "code",
      "execution_count": null,
      "id": "259647d3",
      "metadata": {
        "id": "259647d3"
      },
      "outputs": [],
      "source": [
        "df_train.dropna(inplace = True)"
      ]
    },
    {
      "cell_type": "code",
      "execution_count": null,
      "id": "50d177b7",
      "metadata": {
        "colab": {
          "base_uri": "https://localhost:8080/"
        },
        "id": "50d177b7",
        "outputId": "37240657-706d-4500-ea15-05997dbea5b1"
      },
      "outputs": [
        {
          "output_type": "execute_result",
          "data": {
            "text/plain": [
              "neutral     11117\n",
              "positive     8582\n",
              "negative     7781\n",
              "Name: sentiment, dtype: int64"
            ]
          },
          "metadata": {},
          "execution_count": 7
        }
      ],
      "source": [
        "df_train['sentiment'].value_counts()"
      ]
    },
    {
      "cell_type": "code",
      "execution_count": null,
      "id": "85ac680e",
      "metadata": {
        "colab": {
          "base_uri": "https://localhost:8080/"
        },
        "id": "85ac680e",
        "outputId": "92e64f42-5c0f-4d85-df29-b29958ec1ec8"
      },
      "outputs": [
        {
          "output_type": "execute_result",
          "data": {
            "text/plain": [
              "neutral     11117\n",
              "positive     8582\n",
              "negative     7781\n",
              "Name: sentiment, dtype: int64"
            ]
          },
          "metadata": {},
          "execution_count": 8
        }
      ],
      "source": [
        "df_train['sentiment'].value_counts()"
      ]
    },
    {
      "cell_type": "markdown",
      "source": [
        "Dataset Analysis:\n",
        "\n",
        "\n",
        "\n",
        "*   there are 27480 samples\n",
        "*   The dataset contains 3 diffrent classess natural, positive, and negative\n",
        "*   There was a null value in the 'selected_text' coulmn.\n",
        "*   Neutral classs has \n",
        "\n",
        "\n",
        "\n",
        "\n",
        "\n"
      ],
      "metadata": {
        "id": "CHKsXLZkEvW2"
      },
      "id": "CHKsXLZkEvW2"
    },
    {
      "cell_type": "markdown",
      "id": "a24b5f81",
      "metadata": {
        "id": "a24b5f81"
      },
      "source": [
        "# 3- Preproceseing Data"
      ]
    },
    {
      "cell_type": "markdown",
      "source": [
        "### Removeing Stop words and Punctuation"
      ],
      "metadata": {
        "id": "hUldtPXcHriH"
      },
      "id": "hUldtPXcHriH"
    },
    {
      "cell_type": "code",
      "execution_count": null,
      "id": "33825676",
      "metadata": {
        "id": "33825676"
      },
      "outputs": [],
      "source": [
        "text = df_train['text']\n",
        "punctuation = '\"#$%&()+,-./:;<=>@[\\]^_`{|}~'\n",
        "\n",
        "def text_cleaning(data):\n",
        "    sw_file = open(\"stopwords.txt\", \"r\")\n",
        "    content = sw_file.read()\n",
        "    stopwords = content.split(\"\\n\")\n",
        "    \n",
        "    remove_punc = [i for i in data if i  not in punctuation]\n",
        "    remove_punc = ''.join(remove_punc)\n",
        "    \n",
        "    remove_stopwords = [i for i in remove_punc.split() if i.lower() not in stopwords]\n",
        "    processed = ' '.join(remove_stopwords)\n",
        "    \n",
        "    return processed\n",
        "\n"
      ]
    },
    {
      "cell_type": "code",
      "execution_count": null,
      "id": "20fb062b",
      "metadata": {
        "id": "20fb062b"
      },
      "outputs": [],
      "source": [
        "df_train['clean_text'] = df_train.text.apply(text_cleaning)\n"
      ]
    },
    {
      "cell_type": "code",
      "execution_count": null,
      "id": "cfbd6d8a",
      "metadata": {
        "colab": {
          "base_uri": "https://localhost:8080/",
          "height": 206
        },
        "id": "cfbd6d8a",
        "outputId": "6e30e1fe-b478-442f-8da0-02560125cd94"
      },
      "outputs": [
        {
          "output_type": "execute_result",
          "data": {
            "text/html": [
              "\n",
              "  <div id=\"df-beaea515-5239-48c4-a751-7e31068c50a7\">\n",
              "    <div class=\"colab-df-container\">\n",
              "      <div>\n",
              "<style scoped>\n",
              "    .dataframe tbody tr th:only-of-type {\n",
              "        vertical-align: middle;\n",
              "    }\n",
              "\n",
              "    .dataframe tbody tr th {\n",
              "        vertical-align: top;\n",
              "    }\n",
              "\n",
              "    .dataframe thead th {\n",
              "        text-align: right;\n",
              "    }\n",
              "</style>\n",
              "<table border=\"1\" class=\"dataframe\">\n",
              "  <thead>\n",
              "    <tr style=\"text-align: right;\">\n",
              "      <th></th>\n",
              "      <th>textID</th>\n",
              "      <th>text</th>\n",
              "      <th>selected_text</th>\n",
              "      <th>sentiment</th>\n",
              "      <th>clean_text</th>\n",
              "    </tr>\n",
              "  </thead>\n",
              "  <tbody>\n",
              "    <tr>\n",
              "      <th>0</th>\n",
              "      <td>cb774db0d1</td>\n",
              "      <td>I`d have responded, if I were going</td>\n",
              "      <td>I`d have responded, if I were going</td>\n",
              "      <td>neutral</td>\n",
              "      <td>Id responded going</td>\n",
              "    </tr>\n",
              "    <tr>\n",
              "      <th>1</th>\n",
              "      <td>549e992a42</td>\n",
              "      <td>Sooo SAD I will miss you here in San Diego!!!</td>\n",
              "      <td>Sooo SAD</td>\n",
              "      <td>negative</td>\n",
              "      <td>Sooo SAD miss San Diego!!!</td>\n",
              "    </tr>\n",
              "    <tr>\n",
              "      <th>2</th>\n",
              "      <td>088c60f138</td>\n",
              "      <td>my boss is bullying me...</td>\n",
              "      <td>bullying me</td>\n",
              "      <td>negative</td>\n",
              "      <td>boss bullying</td>\n",
              "    </tr>\n",
              "    <tr>\n",
              "      <th>3</th>\n",
              "      <td>9642c003ef</td>\n",
              "      <td>what interview! leave me alone</td>\n",
              "      <td>leave me alone</td>\n",
              "      <td>negative</td>\n",
              "      <td>interview! leave alone</td>\n",
              "    </tr>\n",
              "    <tr>\n",
              "      <th>4</th>\n",
              "      <td>358bd9e861</td>\n",
              "      <td>Sons of ****, why couldn`t they put them on t...</td>\n",
              "      <td>Sons of ****,</td>\n",
              "      <td>negative</td>\n",
              "      <td>Sons **** couldnt put releases already bought</td>\n",
              "    </tr>\n",
              "  </tbody>\n",
              "</table>\n",
              "</div>\n",
              "      <button class=\"colab-df-convert\" onclick=\"convertToInteractive('df-beaea515-5239-48c4-a751-7e31068c50a7')\"\n",
              "              title=\"Convert this dataframe to an interactive table.\"\n",
              "              style=\"display:none;\">\n",
              "        \n",
              "  <svg xmlns=\"http://www.w3.org/2000/svg\" height=\"24px\"viewBox=\"0 0 24 24\"\n",
              "       width=\"24px\">\n",
              "    <path d=\"M0 0h24v24H0V0z\" fill=\"none\"/>\n",
              "    <path d=\"M18.56 5.44l.94 2.06.94-2.06 2.06-.94-2.06-.94-.94-2.06-.94 2.06-2.06.94zm-11 1L8.5 8.5l.94-2.06 2.06-.94-2.06-.94L8.5 2.5l-.94 2.06-2.06.94zm10 10l.94 2.06.94-2.06 2.06-.94-2.06-.94-.94-2.06-.94 2.06-2.06.94z\"/><path d=\"M17.41 7.96l-1.37-1.37c-.4-.4-.92-.59-1.43-.59-.52 0-1.04.2-1.43.59L10.3 9.45l-7.72 7.72c-.78.78-.78 2.05 0 2.83L4 21.41c.39.39.9.59 1.41.59.51 0 1.02-.2 1.41-.59l7.78-7.78 2.81-2.81c.8-.78.8-2.07 0-2.86zM5.41 20L4 18.59l7.72-7.72 1.47 1.35L5.41 20z\"/>\n",
              "  </svg>\n",
              "      </button>\n",
              "      \n",
              "  <style>\n",
              "    .colab-df-container {\n",
              "      display:flex;\n",
              "      flex-wrap:wrap;\n",
              "      gap: 12px;\n",
              "    }\n",
              "\n",
              "    .colab-df-convert {\n",
              "      background-color: #E8F0FE;\n",
              "      border: none;\n",
              "      border-radius: 50%;\n",
              "      cursor: pointer;\n",
              "      display: none;\n",
              "      fill: #1967D2;\n",
              "      height: 32px;\n",
              "      padding: 0 0 0 0;\n",
              "      width: 32px;\n",
              "    }\n",
              "\n",
              "    .colab-df-convert:hover {\n",
              "      background-color: #E2EBFA;\n",
              "      box-shadow: 0px 1px 2px rgba(60, 64, 67, 0.3), 0px 1px 3px 1px rgba(60, 64, 67, 0.15);\n",
              "      fill: #174EA6;\n",
              "    }\n",
              "\n",
              "    [theme=dark] .colab-df-convert {\n",
              "      background-color: #3B4455;\n",
              "      fill: #D2E3FC;\n",
              "    }\n",
              "\n",
              "    [theme=dark] .colab-df-convert:hover {\n",
              "      background-color: #434B5C;\n",
              "      box-shadow: 0px 1px 3px 1px rgba(0, 0, 0, 0.15);\n",
              "      filter: drop-shadow(0px 1px 2px rgba(0, 0, 0, 0.3));\n",
              "      fill: #FFFFFF;\n",
              "    }\n",
              "  </style>\n",
              "\n",
              "      <script>\n",
              "        const buttonEl =\n",
              "          document.querySelector('#df-beaea515-5239-48c4-a751-7e31068c50a7 button.colab-df-convert');\n",
              "        buttonEl.style.display =\n",
              "          google.colab.kernel.accessAllowed ? 'block' : 'none';\n",
              "\n",
              "        async function convertToInteractive(key) {\n",
              "          const element = document.querySelector('#df-beaea515-5239-48c4-a751-7e31068c50a7');\n",
              "          const dataTable =\n",
              "            await google.colab.kernel.invokeFunction('convertToInteractive',\n",
              "                                                     [key], {});\n",
              "          if (!dataTable) return;\n",
              "\n",
              "          const docLinkHtml = 'Like what you see? Visit the ' +\n",
              "            '<a target=\"_blank\" href=https://colab.research.google.com/notebooks/data_table.ipynb>data table notebook</a>'\n",
              "            + ' to learn more about interactive tables.';\n",
              "          element.innerHTML = '';\n",
              "          dataTable['output_type'] = 'display_data';\n",
              "          await google.colab.output.renderOutput(dataTable, element);\n",
              "          const docLink = document.createElement('div');\n",
              "          docLink.innerHTML = docLinkHtml;\n",
              "          element.appendChild(docLink);\n",
              "        }\n",
              "      </script>\n",
              "    </div>\n",
              "  </div>\n",
              "  "
            ],
            "text/plain": [
              "       textID  ...                                     clean_text\n",
              "0  cb774db0d1  ...                             Id responded going\n",
              "1  549e992a42  ...                     Sooo SAD miss San Diego!!!\n",
              "2  088c60f138  ...                                  boss bullying\n",
              "3  9642c003ef  ...                         interview! leave alone\n",
              "4  358bd9e861  ...  Sons **** couldnt put releases already bought\n",
              "\n",
              "[5 rows x 5 columns]"
            ]
          },
          "metadata": {},
          "execution_count": 11
        }
      ],
      "source": [
        "df_train.head()"
      ]
    },
    {
      "cell_type": "markdown",
      "source": [
        "Represent classess with a numirical values"
      ],
      "metadata": {
        "id": "TaXkOsbpH4Ds"
      },
      "id": "TaXkOsbpH4Ds"
    },
    {
      "cell_type": "code",
      "execution_count": null,
      "id": "43806aa7",
      "metadata": {
        "id": "43806aa7",
        "colab": {
          "base_uri": "https://localhost:8080/"
        },
        "outputId": "2df2b9ae-fa66-45dc-9419-f09888fcfd02"
      },
      "outputs": [
        {
          "output_type": "stream",
          "name": "stdout",
          "text": [
            "[1 0 0 ... 2 2 1]\n"
          ]
        }
      ],
      "source": [
        "\n",
        "lbl_enc = preprocessing.LabelEncoder()\n",
        "y = lbl_enc.fit_transform(df_train.sentiment.values)\n",
        "print(y)"
      ]
    },
    {
      "cell_type": "markdown",
      "source": [
        "Extract the features from the text and represent it numerically"
      ],
      "metadata": {
        "id": "TDSJEz2CvU22"
      },
      "id": "TDSJEz2CvU22"
    },
    {
      "cell_type": "code",
      "execution_count": null,
      "id": "b005cc2b",
      "metadata": {
        "id": "b005cc2b"
      },
      "outputs": [],
      "source": [
        "\n",
        "X = df_train.clean_text.values\n",
        "tfv = TfidfVectorizer(min_df=3,  max_features=None, \n",
        "            strip_accents='unicode', analyzer='word',token_pattern=r'\\w{1,}',\n",
        "            ngram_range=(1, 3), use_idf=1,smooth_idf=1,sublinear_tf=1,\n",
        "            stop_words = 'english')\n",
        "\n",
        "tfv.fit(list(X))\n",
        "X =  tfv.transform(X) \n"
      ]
    },
    {
      "cell_type": "markdown",
      "source": [
        "Splitting Data"
      ],
      "metadata": {
        "id": "P8U5U2ZWIE85"
      },
      "id": "P8U5U2ZWIE85"
    },
    {
      "cell_type": "code",
      "execution_count": null,
      "id": "8bf8c5a6",
      "metadata": {
        "colab": {
          "base_uri": "https://localhost:8080/"
        },
        "id": "8bf8c5a6",
        "outputId": "99e30d5c-e070-4f34-d356-c642f59b98af"
      },
      "outputs": [
        {
          "output_type": "stream",
          "name": "stdout",
          "text": [
            "trainx shape: (16340, 11315)\n",
            "trainy shape: (16340,)\n",
            "valx shape: (3502, 11315)\n",
            "valy shape: (3502,)\n",
            "testx shape: (3501, 11315)\n",
            "testy shape: (3501,)\n"
          ]
        }
      ],
      "source": [
        "trainx, valx, trainy, valy = train_test_split(X,y,test_size=0.30,random_state=777)\n",
        "testx, valx, testy, valy = train_test_split(valx,valy,test_size=0.50,random_state=777)\n",
        "\n",
        "print('trainx shape:',trainx.shape)\n",
        "print('trainy shape:',trainy.shape)\n",
        "print('valx shape:',valx.shape)\n",
        "print('valy shape:',valy.shape)\n",
        "print('testx shape:',testx.shape)\n",
        "print('testy shape:',testy.shape)"
      ]
    },
    {
      "cell_type": "markdown",
      "source": [
        "###Balancing data"
      ],
      "metadata": {
        "id": "qht9bcn2HITZ"
      },
      "id": "qht9bcn2HITZ"
    },
    {
      "cell_type": "code",
      "execution_count": null,
      "id": "0b3a95c0",
      "metadata": {
        "id": "0b3a95c0"
      },
      "outputs": [],
      "source": [
        "# dropp = trainx.drop(df_train[df_train['sentiment'] == 'neutral'].sample(frac=0.30).index)\n",
        "# df_train = dropp.drop(df_train[df_train['sentiment'] == 'positive'].sample(frac=0.0931).index)\n"
      ]
    },
    {
      "cell_type": "code",
      "source": [
        "from imblearn.under_sampling import NearMiss\n",
        "from collections import Counter\n",
        "\n",
        "undersample = NearMiss(version=1, n_neighbors=3)\n",
        "# transform the dataset\n",
        "trainx, trainy = undersample.fit_resample(trainx, trainy)\n",
        "counter = Counter(trainy)\n",
        "print(counter)"
      ],
      "metadata": {
        "colab": {
          "base_uri": "https://localhost:8080/"
        },
        "id": "huJ42yuX1zbm",
        "outputId": "ddf519f0-84b5-41f1-b2a7-ef5f9e76fde1"
      },
      "id": "huJ42yuX1zbm",
      "execution_count": null,
      "outputs": [
        {
          "output_type": "stream",
          "name": "stdout",
          "text": [
            "Counter({0: 5420, 1: 5420, 2: 5420})\n"
          ]
        }
      ]
    },
    {
      "cell_type": "markdown",
      "source": [
        "### Correlation analysis"
      ],
      "metadata": {
        "id": "bFPvergHJJaR"
      },
      "id": "bFPvergHJJaR"
    },
    {
      "cell_type": "code",
      "source": [
        "Correlation  = np.corrcoef(trainx.toarray())\n",
        "plt.matshow(Correlation)\n",
        "plt.show()"
      ],
      "metadata": {
        "colab": {
          "base_uri": "https://localhost:8080/",
          "height": 345
        },
        "id": "ymvoISIv7Mzi",
        "outputId": "901c3f42-e0ee-423f-d8c6-3dc3b7f0e82a"
      },
      "id": "ymvoISIv7Mzi",
      "execution_count": null,
      "outputs": [
        {
          "output_type": "stream",
          "name": "stderr",
          "text": [
            "/usr/local/lib/python3.7/dist-packages/numpy/lib/function_base.py:2559: RuntimeWarning: invalid value encountered in true_divide\n",
            "  c /= stddev[:, None]\n",
            "/usr/local/lib/python3.7/dist-packages/numpy/lib/function_base.py:2560: RuntimeWarning: invalid value encountered in true_divide\n",
            "  c /= stddev[None, :]\n"
          ]
        },
        {
          "output_type": "display_data",
          "data": {
            "image/png": "[encoded data removed]",
            "text/plain": [
              "<Figure size 288x288 with 1 Axes>"
            ]
          },
          "metadata": {
            "needs_background": "light"
          }
        }
      ]
    },
    {
      "cell_type": "markdown",
      "source": [
        "We can not conclude any relation from the correlation graph, probably because of the high dimensionality of the training data"
      ],
      "metadata": {
        "id": "PqLZwFk5D5el"
      },
      "id": "PqLZwFk5D5el"
    },
    {
      "cell_type": "markdown",
      "source": [
        "## Evaluation measures\n",
        "#### We have selected Log loss, F1 score, Recall and confusion matrix to muesure out models for the following reasosn:\n",
        "* Log loss takes into account the uncertainty of your prediction based on how much it varies from the actual label.\n",
        "* F1 is sensitive to any small change in precision or recalland that will result in lower overall score.\n",
        "* Recall gives a measure of how accurately our model is able to identify the relevant data.\n",
        "* confusion matrix gives information about errors made by the classifier and the types of errors that are being made."
      ],
      "metadata": {
        "id": "Ze3mCceHYOLX"
      },
      "id": "Ze3mCceHYOLX"
    },
    {
      "cell_type": "markdown",
      "source": [
        "## List of Chosen classifiers\n",
        "#### We have selected Logistic Regression, Decision Tree, and KNN Classifier for the following reasons:\n",
        "\n",
        "* They do not require normalization of data\n",
        "* Compared to other algorithms They require less computational cost and time except for KNN.\n",
        "*  They make no assumptions about distributions of classes in feature space except for KNN.\n",
        "* They can easily extend to multiple classes problems and give an excellent performance except for KNN.\n"
      ],
      "metadata": {
        "id": "ccr6w_iVPLwk"
      },
      "id": "ccr6w_iVPLwk"
    },
    {
      "cell_type": "markdown",
      "source": [
        "LogisticRegression with Bagging "
      ],
      "metadata": {
        "id": "LFdzOqcDUkse"
      },
      "id": "LFdzOqcDUkse"
    },
    {
      "cell_type": "code",
      "execution_count": null,
      "id": "9bf7baa9",
      "metadata": {
        "id": "9bf7baa9",
        "colab": {
          "base_uri": "https://localhost:8080/"
        },
        "outputId": "7e1de96c-0c24-4646-dc2f-9922cddf7a2f"
      },
      "outputs": [
        {
          "output_type": "stream",
          "name": "stdout",
          "text": [
            "log_loss accuracy : 0.7665136692330904\n"
          ]
        }
      ],
      "source": [
        "bag_logistic = BaggingClassifier(LogisticRegression(C=1.0,max_iter = 10000))\n",
        "bag_logistic.fit(trainx, trainy)\n",
        "logistic_pred = bag_logistic.predict_proba(valx)\n",
        "print('log_loss accuracy :' ,log_loss(valy, logistic_pred))\n",
        "\n"
      ]
    },
    {
      "cell_type": "markdown",
      "source": [
        "KNeighborsClassifier"
      ],
      "metadata": {
        "id": "XP2sGvHbcnvp"
      },
      "id": "XP2sGvHbcnvp"
    },
    {
      "cell_type": "code",
      "execution_count": null,
      "id": "5cd7678a",
      "metadata": {
        "id": "5cd7678a"
      },
      "outputs": [],
      "source": [
        "accuracy_bf = []\n",
        "cpu_bf = []\n",
        "for i in range(1,20,2):\n",
        "    knn_bf = KNeighborsClassifier(n_neighbors=i,algorithm='brute')\n",
        "    knn_bf.fit(trainx,trainy)\n",
        "    predict_bf = knn_bf.score(valx,valy)\n",
        "    accuracy_bf.append(predict_bf)\n",
        "    \n",
        "\n",
        "\n",
        "# classifier= KNeighborsClassifier(n_neighbors=3, p=2 , algorithm=\"auto\")\n",
        "# classifier.fit(trainx, trainy)\n",
        "# knn_pred= classifier.predict(valx)\n",
        "# print(\"Accuracy score :\",accuracy_score(valy, knn_pred))\n",
        "# print(\"Recall score :\", recall_score(valy, knn_pred,average='micro'))\n",
        "# print(\"f1 score :\", f1_score(valy, knn_pred, average='micro'))\n",
        "# print(\"confusion matrix :\\n\", confusion_matrix(valy, knn_pred))\n",
        "# print(\"classification_report\", classification_report(valy, knn_pred))"
      ]
    },
    {
      "cell_type": "code",
      "source": [
        "plt.figure(figsize=(8,6))\n",
        "plt.plot(range(1,20,2),accuracy_bf , color='blue', linestyle='dashed', marker='o',\n",
        "         markerfacecolor='y', markersize=12)\n",
        "plt.title('accuracy vs. K Value')\n",
        "plt.xlabel('K')\n",
        "plt.ylabel('accuracy')\n",
        "#plt.ylim([0,1])\n",
        "plt.xticks(np.arange(1, 20, 2))\n",
        "plt.show()"
      ],
      "metadata": {
        "colab": {
          "base_uri": "https://localhost:8080/",
          "height": 404
        },
        "id": "_qxGtQ0Z3b9S",
        "outputId": "b31c3afd-4fe0-4d60-bb18-0254b4a1891a"
      },
      "id": "_qxGtQ0Z3b9S",
      "execution_count": null,
      "outputs": [
        {
          "output_type": "display_data",
          "data": {
            "image/png": "[encoded data removed]",
            "text/plain": [
              "<Figure size 576x432 with 1 Axes>"
            ]
          },
          "metadata": {
            "needs_background": "light"
          }
        }
      ]
    },
    {
      "cell_type": "markdown",
      "source": [
        "From the graph we can see that 1nn gives the best result among other k's"
      ],
      "metadata": {
        "id": "ekZNQuvn3wHx"
      },
      "id": "ekZNQuvn3wHx"
    },
    {
      "cell_type": "markdown",
      "source": [
        "DecisionTreeClassifier"
      ],
      "metadata": {
        "id": "La8unE_8wjx1"
      },
      "id": "La8unE_8wjx1"
    },
    {
      "cell_type": "code",
      "source": [
        "from sklearn.ensemble import BaggingClassifier\n",
        "# training and hyper-parameter tuning\n",
        "param_grid = {\n",
        "    'base_estimator__max_depth' : np.arange(1,10),\n",
        "    'max_samples' : [0.1, 0.9, 0.5],'n_estimators' : [100,150,200,250,300]\n",
        "}\n",
        "\n",
        "grid_bag = GridSearchCV(BaggingClassifier(DecisionTreeClassifier(),\n",
        "                                     max_features = 0.5,random_state = 7),\n",
        "                                     param_grid)\n",
        "grid_bag.fit(trainx, trainy)"
      ],
      "metadata": {
        "colab": {
          "base_uri": "https://localhost:8080/"
        },
        "id": "E3oh0lhy5BaQ",
        "outputId": "95e80ac1-2b06-43fb-ddb9-27add59b56cd"
      },
      "id": "E3oh0lhy5BaQ",
      "execution_count": null,
      "outputs": [
        {
          "output_type": "execute_result",
          "data": {
            "text/plain": [
              "GridSearchCV(estimator=BaggingClassifier(base_estimator=DecisionTreeClassifier(),\n",
              "                                         max_features=0.5, random_state=7),\n",
              "             param_grid={'base_estimator__max_depth': array([1, 2, 3, 4, 5, 6, 7, 8, 9]),\n",
              "                         'max_samples': [0.1, 0.9, 0.5],\n",
              "                         'n_estimators': [100, 150, 200, 250, 300]})"
            ]
          },
          "metadata": {},
          "execution_count": 29
        }
      ]
    },
    {
      "cell_type": "code",
      "source": [
        "print(\"Best hyper-parameters\",grid_bag.best_params_)\n",
        "print(\"Best accuracy :\",grid_bag.best_score_)"
      ],
      "metadata": {
        "colab": {
          "base_uri": "https://localhost:8080/"
        },
        "id": "rdSrEwgvO2Yt",
        "outputId": "7f654715-2ba3-47d8-ae65-eb40709e0045"
      },
      "id": "rdSrEwgvO2Yt",
      "execution_count": null,
      "outputs": [
        {
          "output_type": "stream",
          "name": "stdout",
          "text": [
            "Best hyper-parameters {'base_estimator__max_depth': 9, 'max_samples': 0.1, 'n_estimators': 250}\n",
            "Best accuracy : 0.5785362853628536\n"
          ]
        }
      ]
    },
    {
      "cell_type": "code",
      "execution_count": null,
      "id": "L91B5KGMEdaR",
      "metadata": {
        "id": "L91B5KGMEdaR",
        "colab": {
          "base_uri": "https://localhost:8080/"
        },
        "outputId": "a5f7e4e9-3af8-4278-f0c1-b465654dd68f"
      },
      "outputs": [
        {
          "output_type": "stream",
          "name": "stdout",
          "text": [
            "Accuracy score : 0.6933181039406053\n",
            "Recall score : 0.6933181039406053\n",
            "f1 score : 0.6933181039406053\n",
            "confusion matrix :\n",
            " [[752 295 105]\n",
            " [207 791 193]\n",
            " [ 74 200 885]]\n",
            "classification_report               precision    recall  f1-score   support\n",
            "\n",
            "           0       0.73      0.65      0.69      1152\n",
            "           1       0.62      0.66      0.64      1191\n",
            "           2       0.75      0.76      0.76      1159\n",
            "\n",
            "    accuracy                           0.69      3502\n",
            "   macro avg       0.70      0.69      0.69      3502\n",
            "weighted avg       0.70      0.69      0.69      3502\n",
            "\n"
          ]
        }
      ],
      "source": [
        "dtree = BaggingClassifier(base_estimator = DecisionTreeClassifier(),n_estimators = 300,random_state = 7)\n",
        "\n",
        "dtree = dtree.fit(trainx,trainy)\n",
        "\n",
        "dtree_pred = dtree.predict(valx)\n",
        "\n",
        "\n",
        "print(\"Accuracy score :\",accuracy_score(valy, dtree_pred))\n",
        "print(\"Recall score :\", recall_score(valy, dtree_pred,average='micro'))\n",
        "print(\"f1 score :\", f1_score(valy, dtree_pred, average='micro'))\n",
        "print(\"confusion matrix :\\n\", confusion_matrix(valy, dtree_pred))\n",
        "print(\"classification_report\", classification_report(valy, dtree_pred))"
      ]
    },
    {
      "cell_type": "markdown",
      "source": [
        "##  Conclusions from the work\n",
        "\n",
        "#### Error analysis and possible improvements \n",
        "* We could have improved our models by doing proper hyperparameters tuning, but we are dealing with a large dataset our hyperparameter tuning process took +500 minutes and didn't converge.\n",
        "* exploring different boosting methods.\n",
        "* Extracting the features with different methods like word embedding and countVectorizer.\n",
        "\n",
        "#### Problems we faced\n",
        "* having an  imbalanced dataset, and we dealt with it by making all the classes equal, and that improved our models accuracy by 3%\n",
        "* using the right method to convert the text into an index, and we managed to solve that by using TfidfVectorizer.\n",
        "* Finding the right models for our problems, and we managed to solve that by trying various models like linear regression and SVM until we found the best 3 models in case of the computation cost and efficiency \n",
        "* dealing with text dataset.\n"
      ],
      "metadata": {
        "id": "9QeCfUZpe3rY"
      },
      "id": "9QeCfUZpe3rY"
    }
  ],
  "metadata": {
    "colab": {
      "name": "ICS485_TermProject-AbdulrhmanAljaber-Ali Alali.ipynb",
      "provenance": [],
      "collapsed_sections": []
    },
    "kernelspec": {
      "display_name": "Python 3 (ipykernel)",
      "language": "python",
      "name": "python3"
    },
    "language_info": {
      "codemirror_mode": {
        "name": "ipython",
        "version": 3
      },
      "file_extension": ".py",
      "mimetype": "text/x-python",
      "name": "python",
      "nbconvert_exporter": "python",
      "pygments_lexer": "ipython3",
      "version": "3.8.8"
    }
  },
  "nbformat": 4,
  "nbformat_minor": 5
}