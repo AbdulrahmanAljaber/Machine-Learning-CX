{
 "cells": [
  {
   "cell_type": "markdown",
   "metadata": {},
   "source": [
    "# Assignment-1 (KNN Classifier)--PartA\n",
    "## Handwritten digit recognition\n",
    "In this assignment partA, we will use the built-in library ``sklearn`` to use KNN classifier."
   ]
  },
  {
   "cell_type": "markdown",
   "metadata": {},
   "source": [
    "## The MNIST dataset\n",
    "`MNIST` is a classic dataset in machine learning, consisting of 28x28 gray-scale images handwritten digits. The training set contains 60,000 examples and the test set contains 10,000 examples. In this assignment we will further split the training set to take out 12,000 examples as a validation step."
   ]
  },
  {
   "cell_type": "code",
   "execution_count": 11,
   "metadata": {},
   "outputs": [],
   "source": [
    "%matplotlib inline\n",
    "import gzip, os\n",
    "import numpy as np\n",
    "import matplotlib.pyplot as plt\n",
    "import time\n",
    "from urllib.request import urlretrieve\n",
    "import timeit\n",
    "import pandas as pd"
   ]
  },
  {
   "cell_type": "code",
   "execution_count": 12,
   "metadata": {},
   "outputs": [],
   "source": [
    "# Function that downloads a specified MNIST data file from Yann Le Cun's website\n",
    "def download(filename, source='http://yann.lecun.com/exdb/mnist/'):\n",
    "    print(\"Downloading %s\" % filename)\n",
    "    urlretrieve(source + filename, filename)\n",
    "\n",
    "# Invokes download() if necessary, then reads in images\n",
    "def load_mnist_images(filename):\n",
    "    if not os.path.exists(filename):\n",
    "        download(filename)\n",
    "    with gzip.open(filename, 'rb') as f:\n",
    "        data = np.frombuffer(f.read(), np.uint8, offset=16)\n",
    "    data = data.reshape(-1,784)\n",
    "    return data\n",
    "\n",
    "def load_mnist_labels(filename):\n",
    "    if not os.path.exists(filename):\n",
    "        download(filename)\n",
    "    with gzip.open(filename, 'rb') as f:\n",
    "        data = np.frombuffer(f.read(), np.uint8, offset=8)\n",
    "    return data"
   ]
  },
  {
   "cell_type": "code",
   "execution_count": 13,
   "metadata": {},
   "outputs": [],
   "source": [
    "## Load the training set\n",
    "train_data = load_mnist_images('train-images-idx3-ubyte.gz')\n",
    "train_labels = load_mnist_labels('train-labels-idx1-ubyte.gz')\n",
    "\n",
    "## Load the testing set\n",
    "test_data = load_mnist_images('t10k-images-idx3-ubyte.gz')\n",
    "test_labels = load_mnist_labels('t10k-labels-idx1-ubyte.gz')"
   ]
  },
  {
   "cell_type": "code",
   "execution_count": 14,
   "metadata": {},
   "outputs": [
    {
     "name": "stdout",
     "output_type": "stream",
     "text": [
      "Training dataset dimensions:  (60000, 784)\n",
      "Number of training labels:  60000\n",
      "Testing dataset dimensions:  (10000, 784)\n",
      "Number of testing labels:  10000\n"
     ]
    }
   ],
   "source": [
    "## Print out their dimensions\n",
    "print(\"Training dataset dimensions: \", np.shape(train_data))\n",
    "print(\"Number of training labels: \", len(train_labels))\n",
    "print(\"Testing dataset dimensions: \", np.shape(test_data))\n",
    "print(\"Number of testing labels: \", len(test_labels))"
   ]
  },
  {
   "cell_type": "code",
   "execution_count": 15,
   "metadata": {},
   "outputs": [
    {
     "name": "stdout",
     "output_type": "stream",
     "text": [
      "Training set distribution:\n",
      "{0: 5923, 1: 6742, 2: 5958, 3: 6131, 4: 5842, 5: 5421, 6: 5918, 7: 6265, 8: 5851, 9: 5949}\n",
      "Test set distribution:\n",
      "{0: 980, 1: 1135, 2: 1032, 3: 1010, 4: 982, 5: 892, 6: 958, 7: 1028, 8: 974, 9: 1009}\n"
     ]
    }
   ],
   "source": [
    "## Compute the number of examples of each digit\n",
    "train_digits, train_counts = np.unique(train_labels, return_counts=True)\n",
    "print(\"Training set distribution:\")\n",
    "print(dict(zip(train_digits, train_counts)))\n",
    "\n",
    "test_digits, test_counts = np.unique(test_labels, return_counts=True)\n",
    "print(\"Test set distribution:\")\n",
    "print(dict(zip(test_digits, test_counts)))"
   ]
  },
  {
   "cell_type": "code",
   "execution_count": 6,
   "metadata": {},
   "outputs": [
    {
     "data": {
      "image/png": "[encoded data removed]",
      "text/plain": [
       "<Figure size 432x288 with 1 Axes>"
      ]
     },
     "metadata": {
      "needs_background": "light"
     },
     "output_type": "display_data"
    },
    {
     "name": "stdout",
     "output_type": "stream",
     "text": [
      "Label 5\n"
     ]
    },
    {
     "data": {
      "image/png": "[encoded data removed]",
      "text/plain": [
       "<Figure size 432x288 with 1 Axes>"
      ]
     },
     "metadata": {
      "needs_background": "light"
     },
     "output_type": "display_data"
    },
    {
     "name": "stdout",
     "output_type": "stream",
     "text": [
      "Label 7\n"
     ]
    }
   ],
   "source": [
    "## Define a function that displays a digit given its vector representation\n",
    "def show_digit(x):\n",
    "    plt.axis('off')\n",
    "    plt.imshow(x.reshape((28,28)), cmap=plt.cm.gray)\n",
    "    plt.show()\n",
    "    return\n",
    "\n",
    "## Define a function that takes an index into a particular data set (\"train\" or \"test\") and displays that image.\n",
    "def vis_image(index, dataset=\"train\"):\n",
    "    if(dataset==\"train\"): \n",
    "        show_digit(train_data[index,])\n",
    "        label = train_labels[index]\n",
    "    else:\n",
    "        show_digit(test_data[index,])\n",
    "        label = test_labels[index]\n",
    "    print(\"Label \" + str(label))\n",
    "    return\n",
    "\n",
    "## View the first data point in the training set\n",
    "vis_image(0, \"train\")\n",
    "\n",
    "## Now view the first data point in the test set\n",
    "vis_image(0, \"test\")"
   ]
  },
  {
   "cell_type": "markdown",
   "metadata": {},
   "source": [
    "## Splitting the Train data to Train and Validate Sets"
   ]
  },
  {
   "cell_type": "code",
   "execution_count": 20,
   "metadata": {},
   "outputs": [],
   "source": [
    "from sklearn.model_selection import train_test_split\n",
    "trainx, valx, trainy, valy = train_test_split(train_data, train_labels, test_size=0.20, random_state=42)"
   ]
  },
  {
   "cell_type": "markdown",
   "metadata": {},
   "source": [
    "## 1. K-Nearest neighbor classifier--Brute Force Approach"
   ]
  },
  {
   "cell_type": "markdown",
   "metadata": {},
   "source": [
    "Use the built-in KNN classifier to perform handwritten digit classification task. Please keep in mind that any hyper-parameter selection shall be performed on the independent validation set and not on the test set. You need to study the KNeighborsClassifier documentation to understand how to use the api with different parameters. In this set of experiments, you need to select 'brute' for the **algorithm** parameter. Record the error rates on the test set and the cpu time taken for evaluation.\n",
    "\n",
    "**Note:** Here you don't have to implement the KNN classifier but you just need to use it from ``sklearn`` library."
   ]
  },
  {
   "cell_type": "markdown",
   "metadata": {},
   "source": [
    "## 2. Faster nearest neighbor methods"
   ]
  },
  {
   "cell_type": "code",
   "execution_count": 8,
   "metadata": {
    "scrolled": true
   },
   "outputs": [
    {
     "name": "stdout",
     "output_type": "stream",
     "text": [
      "1 nearest neighbors Computation time = 6.949476500000003s\n",
      "1 nearest neighbors accuracy = 0.9740833333333333\n",
      "3 nearest neighbors Computation time = 7.617834500000001s\n",
      "3 nearest neighbors accuracy = 0.9726666666666667\n",
      "5 nearest neighbors Computation time = 10.604708099999996s\n",
      "5 nearest neighbors accuracy = 0.9715\n",
      "7 nearest neighbors Computation time = 10.636674s\n",
      "7 nearest neighbors accuracy = 0.9695833333333334\n",
      "9 nearest neighbors Computation time = 10.6101752s\n",
      "9 nearest neighbors accuracy = 0.9673333333333334\n",
      "11 nearest neighbors Computation time = 10.754250099999993s\n",
      "11 nearest neighbors accuracy = 0.9650833333333333\n",
      "13 nearest neighbors Computation time = 10.665680699999996s\n",
      "13 nearest neighbors accuracy = 0.9643333333333334\n",
      "15 nearest neighbors Computation time = 10.661302199999994s\n",
      "15 nearest neighbors accuracy = 0.9635833333333333\n",
      "17 nearest neighbors Computation time = 10.731899099999993s\n",
      "17 nearest neighbors accuracy = 0.9615\n",
      "19 nearest neighbors Computation time = 10.654516599999994s\n",
      "19 nearest neighbors accuracy = 0.9606666666666667\n"
     ]
    }
   ],
   "source": [
    "from sklearn.neighbors import KNeighborsClassifier\n",
    "\n",
    "### START CODE HERE ###\n",
    "accuracy_bf = []\n",
    "cpu_bf = []\n",
    "for i in range(1,20,2):\n",
    "\n",
    "    tic = timeit.default_timer() \n",
    "\n",
    "    knn_bf = KNeighborsClassifier(n_neighbors=i,algorithm='brute')\n",
    "    knn_bf.fit(trainx,trainy)\n",
    "    predict_bf = knn_bf.score(valx,valy)\n",
    "    accuracy_bf.append(predict_bf)\n",
    "    \n",
    "    toc = timeit.default_timer()\n",
    "    \n",
    "    cpu_bf.append(toc-tic)\n",
    "    print(str(i) + \" nearest neighbors Computation time = \"+str((toc - tic ))+\"s\")\n",
    "    print(str(i) + \" nearest neighbors accuracy         = \"+str(predict_bf ))\n",
    "### END CODE HERE ###"
   ]
  },
  {
   "cell_type": "code",
   "execution_count": 10,
   "metadata": {},
   "outputs": [
    {
     "name": "stdout",
     "output_type": "stream",
     "text": [
      "[6.949476500000003, 7.617834500000001, 10.604708099999996, 10.636674, 10.6101752, 10.754250099999993, 10.665680699999996, 10.661302199999994, 10.731899099999993, 10.654516599999994]\n",
      "[0.9740833333333333, 0.9726666666666667, 0.9715, 0.9695833333333334, 0.9673333333333334, 0.9650833333333333, 0.9643333333333334, 0.9635833333333333, 0.9615, 0.9606666666666667]\n"
     ]
    },
    {
     "data": {
      "image/png": "[encoded data removed]",
      "text/plain": [
       "<Figure size 576x432 with 1 Axes>"
      ]
     },
     "metadata": {
      "needs_background": "light"
     },
     "output_type": "display_data"
    },
    {
     "data": {
      "image/png": "[encoded data removed]",
      "text/plain": [
       "<Figure size 576x432 with 1 Axes>"
      ]
     },
     "metadata": {
      "needs_background": "light"
     },
     "output_type": "display_data"
    }
   ],
   "source": [
    "#import matplotlib.pyplot as plt\n",
    "#%matplotlib inline\n",
    "#################\n",
    "\n",
    "plt.figure(figsize=(8,6))\n",
    "plt.plot(range(1,20,2),accuracy_bf , color='blue', linestyle='dashed', marker='o',\n",
    "         markerfacecolor='y', markersize=12)\n",
    "plt.title('accuracy vs. K Value')\n",
    "plt.xlabel('K')\n",
    "plt.ylabel('accuracy')\n",
    "#plt.ylim([0,1])\n",
    "plt.xticks(np.arange(1, 20, 2))\n",
    "plt.show()\n",
    "\n",
    "plt.figure(figsize=(8,6))\n",
    "plt.plot(range(1,20,2),cpu , color='blue', linestyle='dashed', marker='o',\n",
    "         markerfacecolor='y', markersize=12)\n",
    "plt.title('CPU time vs. K Value')\n",
    "plt.xlabel('K')\n",
    "plt.ylabel('CPU time')\n",
    "plt.xticks(np.arange(1, 20, 2))\n",
    "plt.show()\n"
   ]
  },
  {
   "cell_type": "markdown",
   "metadata": {},
   "source": [
    "Performing nearest neighbor classification in the way we have presented requires a full pass through the training set in order to classify a single point. If there are $N$ training points in $\\mathbb{R}^d$, this takes $O(N d)$ time.\n",
    "\n",
    "Fortunately, there are faster methods to perform nearest neighbor look up if we are willing to spend some time preprocessing the training set. `scikit-learn` has fast implementations of two useful nearest neighbor data structures: the _ball tree_ and the _k-d tree_. Record the error rates on the test set and the cpu time taken for evaluation using these two faster methods.\n",
    "\n",
    "**Note:** You need to select 'ball_tree'or 'kd_tree' for the **algorithm** parameter for ``KNeighborsClassifier`` classifier."
   ]
  },
  {
   "cell_type": "code",
   "execution_count": 12,
   "metadata": {},
   "outputs": [
    {
     "name": "stdout",
     "output_type": "stream",
     "text": [
      "1 nearest neighbors Computation time = 466.1171212999999s\n",
      "1 nearest neighbors accuracy         = 0.9740833333333333\n",
      "3 nearest neighbors Computation time = 467.0247138s\n",
      "3 nearest neighbors accuracy         = 0.9726666666666667\n",
      "5 nearest neighbors Computation time = 465.45788790000006s\n",
      "5 nearest neighbors accuracy         = 0.9715\n",
      "7 nearest neighbors Computation time = 463.8926885000001s\n",
      "7 nearest neighbors accuracy         = 0.9695833333333334\n",
      "9 nearest neighbors Computation time = 464.4814111999999s\n",
      "9 nearest neighbors accuracy         = 0.9673333333333334\n",
      "11 nearest neighbors Computation time = 463.15604710000025s\n",
      "11 nearest neighbors accuracy         = 0.9650833333333333\n",
      "13 nearest neighbors Computation time = 464.32521620000034s\n",
      "13 nearest neighbors accuracy         = 0.9643333333333334\n",
      "15 nearest neighbors Computation time = 462.80268849999993s\n",
      "15 nearest neighbors accuracy         = 0.9635833333333333\n",
      "17 nearest neighbors Computation time = 464.42768069999966s\n",
      "17 nearest neighbors accuracy         = 0.9615\n",
      "19 nearest neighbors Computation time = 462.70826039999974s\n",
      "19 nearest neighbors accuracy         = 0.9606666666666667\n"
     ]
    }
   ],
   "source": [
    "# You can use KNeighborsClassifier with correct values for 'algorithm'\n",
    "### START CODE HERE ###\n",
    "accuracy_kdt = []\n",
    "cpu_kdt = []\n",
    "\n",
    "\n",
    " \n",
    "for i in range(1,20,2):\n",
    "    \n",
    "    tic = timeit.default_timer()\n",
    "    \n",
    "    knn_kdt = KNeighborsClassifier(n_neighbors=i,algorithm='kd_tree')\n",
    "    knn_kdt.fit(trainx,trainy)\n",
    "    predict_kdt = knn_kdt.score(valx,valy)\n",
    "    accuracy_kdt.append(predict_kdt)\n",
    "\n",
    "    toc = timeit.default_timer()\n",
    "    \n",
    "    cpu_kdt.append(toc-tic)\n",
    "    print(str(i) + \" nearest neighbors Computation time = \"+str(toc - tic) +\"s\")\n",
    "    print(str(i) + \" nearest neighbors accuracy         = \"+str(predict_kdt ))\n",
    "### END CODE HERE ###"
   ]
  },
  {
   "cell_type": "code",
   "execution_count": 13,
   "metadata": {},
   "outputs": [
    {
     "data": {
      "image/png": "[encoded data removed]",
      "text/plain": [
       "<Figure size 576x432 with 1 Axes>"
      ]
     },
     "metadata": {
      "needs_background": "light"
     },
     "output_type": "display_data"
    },
    {
     "data": {
      "image/png": "[encoded data removed]",
      "text/plain": [
       "<Figure size 576x432 with 1 Axes>"
      ]
     },
     "metadata": {
      "needs_background": "light"
     },
     "output_type": "display_data"
    }
   ],
   "source": [
    "plt.figure(figsize=(8,6))\n",
    "plt.plot(range(1,20,2),accuracy_kdt , color='blue', linestyle='dashed', marker='o',\n",
    "         markerfacecolor='y', markersize=12)\n",
    "plt.title('kd-tree accuracy vs. K Value')\n",
    "plt.xlabel('K')\n",
    "plt.ylabel('kd-tree accuracy')\n",
    "#plt.ylim([0,1])\n",
    "plt.xticks(np.arange(1, 20, 2))\n",
    "plt.show()\n",
    "\n",
    "\n",
    "plt.figure(figsize=(8,6))\n",
    "plt.plot(range(1,20,2),cpu_kdt , color='blue', linestyle='dashed', marker='o',\n",
    "         markerfacecolor='y', markersize=12)\n",
    "plt.title('CPU time vs. K Value')\n",
    "plt.xlabel('K')\n",
    "plt.ylabel('CPU time')\n",
    "plt.xticks(np.arange(1, 20, 2))\n",
    "plt.show()\n"
   ]
  },
  {
   "cell_type": "markdown",
   "metadata": {},
   "source": [
    "## 3. Record CPU time and accuracy for all the three approaches in different datasets"
   ]
  },
  {
   "cell_type": "markdown",
   "metadata": {},
   "source": [
    "Use brute-force, kd-tree, and ball-tree approaches for the following datasets and record the accuracies and cpu time (for evaluation step only). Looking at the results, can you explain it.\n",
    "\n",
    "Datasets:\n",
    "1. Abalone Data Set (https://archive.ics.uci.edu/ml/datasets/abalone)\n",
    "2. Statlog (Landsat Satellite) Data Set (https://archive.ics.uci.edu/ml/datasets/Statlog+(Landsat+Satellite))\n",
    "\n",
    "**Note:** The datasets are provided as attachement in the assignment as CSV files."
   ]
  },
  {
   "cell_type": "code",
   "execution_count": null,
   "metadata": {},
   "outputs": [
    {
     "name": "stdout",
     "output_type": "stream",
     "text": [
      " nearest neighbors Computation time = 7.354978900009883s\n",
      " nearest neighbors accuracy         = 0.9740833333333333\n"
     ]
    }
   ],
   "source": [
    "# You can use KNeighborsClassifier with correct values for 'algorithm'\n",
    "from sklearn.neighbors import KNeighborsClassifier\n",
    "\n",
    "### START CODE HERE ###\n",
    "df = pd.read_csv('186_satimage.csv',header=None)\n",
    "df.head()\n",
    "trainx, valx, trainy, valy = train_test_split(train_data, train_labels, test_size=0.20, random_state=42)\n",
    "tic = timeit.default_timer() \n",
    "\n",
    "knn_bf = KNeighborsClassifier(n_neighbors=1,algorithm='brute')\n",
    "knn_bf.fit(trainx,trainy)\n",
    "predict_bf = knn_bf.score(valx,valy)\n",
    "\n",
    "\n",
    "toc = timeit.default_timer()\n",
    "\n",
    "\n",
    "print(\" nearest neighbors Computation time = \"+str((toc - tic ))+\"s\")\n",
    "print(\" nearest neighbors accuracy         = \"+str(predict_bf ))\n",
    "\n",
    "tic = timeit.default_timer()\n",
    "\n",
    "knn_kdt = KNeighborsClassifier(n_neighbors=1,algorithm='kd_tree')\n",
    "knn_kdt.fit(trainx,trainy)\n",
    "predict_kdt = knn_kdt.score(valx,valy)\n",
    "accuracy_kdt.append(predict_kdt)\n",
    "\n",
    "toc = timeit.default_timer()\n",
    "\n",
    "\n",
    "print(\" kd-tree nearest neighbors Computation time = \"+str(toc - tic) +\"s\")\n",
    "print(\" kd-tree nearest neighbors accuracy         = \"+str(predict_kdt ))\n",
    "\n",
    "tic = timeit.default_timer()\n",
    "\n",
    "knn_bt = KNeighborsClassifier(n_neighbors=1,algorithm='ball_tree')\n",
    "knn_bt.fit(trainx,trainy)\n",
    "predict_kdt = knn_bt.score(valx,valy)\n",
    "accuracy_bt.append(predict_bt)\n",
    "\n",
    "toc = timeit.default_timer()\n",
    "\n",
    "print(\"ball-tree nearest neighbors Computation time = \"+str(toc - tic) +\"s\")\n",
    "print(\"ball-tree nearest neighbors accuracy         = \"+str(predict_bt ))\n",
    "\n",
    "### END CODE HERE ###"
   ]
  },
  {
   "cell_type": "code",
   "execution_count": null,
   "metadata": {},
   "outputs": [],
   "source": [
    "# You can use KNeighborsClassifier with correct values for 'algorithm'\n",
    "from sklearn.neighbors import KNeighborsClassifier\n",
    "\n",
    "### START CODE HERE ###\n",
    "df = pd.read_csv('Abalone19.csv',header=None)\n",
    "df.head()\n",
    "trainx, valx, trainy, valy = train_test_split(train_data, train_labels, test_size=0.20, random_state=42)\n",
    "tic = timeit.default_timer() \n",
    "\n",
    "knn_bf = KNeighborsClassifier(n_neighbors=1,algorithm='brute')\n",
    "knn_bf.fit(trainx,trainy)\n",
    "predict_bf = knn_bf.score(valx,valy)\n",
    "\n",
    "\n",
    "toc = timeit.default_timer()\n",
    "\n",
    "\n",
    "print(\" nearest neighbors Computation time = \"+str((toc - tic ))+\"s\")\n",
    "print(\" nearest neighbors accuracy         = \"+str(predict_bf ))\n",
    "\n",
    "tic = timeit.default_timer()\n",
    "\n",
    "knn_kdt = KNeighborsClassifier(n_neighbors=1,algorithm='kd_tree')\n",
    "knn_kdt.fit(trainx,trainy)\n",
    "predict_kdt = knn_kdt.score(valx,valy)\n",
    "accuracy_kdt.append(predict_kdt)\n",
    "\n",
    "toc = timeit.default_timer()\n",
    "\n",
    "\n",
    "print(\" kd-tree nearest neighbors Computation time = \"+str(toc - tic) +\"s\")\n",
    "print(\" kd-tree nearest neighbors accuracy         = \"+str(predict_kdt ))\n",
    "\n",
    "tic = timeit.default_timer()\n",
    "\n",
    "knn_bt = KNeighborsClassifier(n_neighbors=1,algorithm='ball_tree')\n",
    "knn_bt.fit(trainx,trainy)\n",
    "predict_kdt = knn_bt.score(valx,valy)\n",
    "accuracy_bt.append(predict_bt)\n",
    "\n",
    "toc = timeit.default_timer()\n",
    "\n",
    "print(\"ball-tree nearest neighbors Computation time = \"+str(toc - tic) +\"s\")\n",
    "print(\"ball-tree nearest neighbors accuracy         = \"+str(predict_bt ))\n",
    "\n",
    "### END CODE HERE ###"
   ]
  },
  {
   "cell_type": "markdown",
   "metadata": {},
   "source": [
    "## E1. Extra Stuff"
   ]
  },
  {
   "cell_type": "markdown",
   "metadata": {},
   "source": [
    "You are invited to try some more ideas as extra work like:\n",
    "1. Instead of using the pixels as features, implement your own features (example: what were presented in the slides) and use them for KNN. You need to keep in mind that if you compute features which have different scales then it is important to scale/normalize the features (discussed in the slides)."
   ]
  },
  {
   "cell_type": "markdown",
   "metadata": {},
   "source": [
    "## Points to remember"
   ]
  },
  {
   "cell_type": "markdown",
   "metadata": {},
   "source": [
    "You need to keep in mind the following points:\n",
    "1. Use numpy arrays and numpy libraries for efficient computations. "
   ]
  },
  {
   "cell_type": "code",
   "execution_count": null,
   "metadata": {},
   "outputs": [],
   "source": []
  }
 ],
 "metadata": {
  "kernelspec": {
   "display_name": "Python 3 (ipykernel)",
   "language": "python",
   "name": "python3"
  },
  "language_info": {
   "codemirror_mode": {
    "name": "ipython",
    "version": 3
   },
   "file_extension": ".py",
   "mimetype": "text/x-python",
   "name": "python",
   "nbconvert_exporter": "python",
   "pygments_lexer": "ipython3",
   "version": "3.8.8"
  }
 },
 "nbformat": 4,
 "nbformat_minor": 2
}
